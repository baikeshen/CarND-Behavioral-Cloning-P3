{
 "cells": [
  {
   "cell_type": "code",
   "execution_count": 1,
   "metadata": {},
   "outputs": [
    {
     "name": "stderr",
     "output_type": "stream",
     "text": [
      "Using TensorFlow backend.\n"
     ]
    }
   ],
   "source": [
    "import numpy as np\n",
    "import csv\n",
    "import cv2\n",
    "import sklearn\n",
    "\n",
    "from sklearn.model_selection import train_test_split\n",
    "from keras.models import Sequential\n",
    "from keras.layers import Flatten, Dense, Lambda, MaxPooling2D, Dropout\n",
    "from keras.layers.convolutional import Convolution2D\n",
    "\n",
    "# Constants\n",
    "data_path = \"data_old/\"\n",
    "image_path = data_path + \"IMG/\"\n",
    "left_image_angle_correction = 0.20\n",
    "right_image_angle_correction = -0.20\n",
    "csv_data = []\n",
    "processed_csv_data = []"
   ]
  },
  {
   "cell_type": "code",
   "execution_count": 2,
   "metadata": {},
   "outputs": [],
   "source": [
    "# Method to pre-process the input image\n",
    "def pre_process_image(image):\n",
    "    # Since cv2 reads the image in BGR format and the simulator will send the image in RGB format\n",
    "    # Hence changing the image color space from BGR to RGB\n",
    "    colored_image = cv2.cvtColor(image, cv2.COLOR_BGR2RGB)\n",
    "    # Cropping the image\n",
    "    #cropped_image = colored_image[60:140, :]\n",
    "    # Downscaling the cropped image\n",
    "    #resized_image = cv2.resize(cropped_image, None, fx=0.25, fy=0.4, interpolation=cv2.INTER_CUBIC)\n",
    "    return colored_image #cropped_image\n"
   ]
  },
  {
   "cell_type": "code",
   "execution_count": 3,
   "metadata": {},
   "outputs": [
    {
     "name": "stdout",
     "output_type": "stream",
     "text": [
      "(160, 320, 3)\n"
     ]
    }
   ],
   "source": [
    "# Reading the content of csv file\n",
    "with open(data_path + 'driving_log.csv') as csv_file:\n",
    "    csv_reader = csv.reader(csv_file)\n",
    "    # Skipping the headers\n",
    "    next(csv_reader, None)\n",
    "    for each_line in csv_reader:\n",
    "        csv_data.append(each_line)\n",
    "\n",
    "# Getting shape of processed image\n",
    "first_img_path = image_path + csv_data[0][0].split('/')[-1]\n",
    "first_image = cv2.imread(first_img_path)\n",
    "processed_image_shape = pre_process_image(first_image).shape\n",
    "\n",
    "print(processed_image_shape)"
   ]
  },
  {
   "cell_type": "code",
   "execution_count": 4,
   "metadata": {},
   "outputs": [],
   "source": [
    "images = []\n",
    "measurements = []\n",
    "\n",
    "for Line in csv_data:\n",
    "    current_image_path = image_path + Line[0].split('/')[-1]\n",
    "    current_image = cv2.imread(current_image_path)\n",
    "    current_image = pre_process_image(current_image)\n",
    "    images.append(current_image)\n",
    "\n",
    "    measurement = float(Line[3])\n",
    "    measurements.append(measurement)\n",
    "  #------------------------------------------------\n",
    "    current_image_path = image_path + Line[1].split('/')[-1]\n",
    "    current_image = cv2.imread(current_image_path)\n",
    "    current_image = pre_process_image(current_image)\n",
    "    images.append(current_image)\n",
    "\n",
    "    measurement = float(Line[3]) + 0.2\n",
    "    measurements.append(measurement)\n",
    "  #-------------------------------------------------\n",
    "    current_image_path = image_path + Line[2].split('/')[-1]\n",
    "    current_image = cv2.imread(current_image_path)\n",
    "    current_image = pre_process_image(current_image)\n",
    "    images.append(current_image)\n",
    "\n",
    "    measurement = float(Line[3]) - 0.2\n",
    "    measurements.append(measurement)\n",
    "\n",
    "augmented_images, augmented_measurements = [], []\n",
    "for image, measurement in zip(images, measurements):\n",
    "    augmented_images.append(image)\n",
    "    augmented_measurements.append(measurement)\n",
    "    augmented_images.append(cv2.flip(image, 1))\n",
    "    augmented_measurements.append(measurement*-1.0)\n",
    "\n",
    "\n",
    "X_train = np.array(augmented_images)\n",
    "y_train = np.array(augmented_measurements)\n",
    "\n",
    "#X_train = np.array(images)\n",
    "#y_train = np.array(measurements)\n"
   ]
  },
  {
   "cell_type": "code",
   "execution_count": 5,
   "metadata": {},
   "outputs": [],
   "source": [
    "# My final model architecture\n",
    "from keras.layers.convolutional import Cropping2D\n",
    "\n",
    "model = Sequential()\n",
    "\n",
    "model.add(Lambda(lambda x: (x / 255.0) - 0.5, input_shape=processed_image_shape))\n",
    "model.add(Cropping2D(cropping=((50,20), (0,0))))\n",
    "\n",
    "model.add(Convolution2D(24, 5, 5, subsample=(2, 2), activation=\"relu\"))\n",
    "#model.add(MaxPooling2D())\n",
    "#model.add(Dropout(0.25))\n",
    "\n",
    "model.add(Convolution2D(36, 5, 5, subsample=(2, 2), activation=\"relu\"))\n",
    "#model.add(MaxPooling2D())\n",
    "\n",
    "model.add(Convolution2D(48, 5, 5, subsample=(2, 2), activation=\"relu\"))\n",
    "#model.add(MaxPooling2D())\n",
    "\n",
    "model.add(Convolution2D(64, 3, 3, activation=\"relu\"))\n",
    "#model.add(MaxPooling2D())\n",
    "\n",
    "model.add(Convolution2D(64, 3, 3, activation=\"relu\"))\n",
    "#model.add(MaxPooling2D())\n",
    "\n",
    "model.add(Flatten())\n",
    "model.add(Dense(100))  #100\n",
    "#model.add(Dropout(0.20))\n",
    "model.add(Dense(50))   # 50\n",
    "model.add(Dense(10))   # 10\n",
    "model.add(Dense(1))\n"
   ]
  },
  {
   "cell_type": "code",
   "execution_count": 6,
   "metadata": {},
   "outputs": [
    {
     "name": "stdout",
     "output_type": "stream",
     "text": [
      "Train on 38572 samples, validate on 9644 samples\n",
      "Epoch 1/3\n",
      "38572/38572 [==============================] - 1290s - loss: 0.0185 - val_loss: 0.0198\n",
      "Epoch 2/3\n",
      "38572/38572 [==============================] - 1131s - loss: 0.0139 - val_loss: 0.0189\n",
      "Epoch 3/3\n",
      "38572/38572 [==============================] - 905s - loss: 0.0121 - val_loss: 0.0186\n"
     ]
    }
   ],
   "source": [
    "model.compile(loss='mse', optimizer='adam')\n",
    "model.fit(X_train, y_train, validation_split=0.2, shuffle=True, nb_epoch = 3)\n",
    "\n",
    "model.save('model.h5')"
   ]
  },
  {
   "cell_type": "code",
   "execution_count": 7,
   "metadata": {},
   "outputs": [],
   "source": [
    "from keras.models import load_model\n",
    "\n",
    "def loadModel(modelPath):\n",
    "    \"\"\"\n",
    "    Loads the model `modelPath`.\n",
    "    \"\"\"\n",
    "    model = load_model(modelPath)\n",
    "    return model\n"
   ]
  },
  {
   "cell_type": "code",
   "execution_count": 8,
   "metadata": {},
   "outputs": [
    {
     "name": "stdout",
     "output_type": "stream",
     "text": [
      "____________________________________________________________________________________________________\n",
      "Layer (type)                     Output Shape          Param #     Connected to                     \n",
      "====================================================================================================\n",
      "lambda_1 (Lambda)                (None, 160, 320, 3)   0           lambda_input_2[0][0]             \n",
      "____________________________________________________________________________________________________\n",
      "cropping2d_1 (Cropping2D)        (None, 90, 320, 3)    0           lambda_1[0][0]                   \n",
      "____________________________________________________________________________________________________\n",
      "convolution2d_1 (Convolution2D)  (None, 43, 158, 24)   1824        cropping2d_1[0][0]               \n",
      "____________________________________________________________________________________________________\n",
      "convolution2d_2 (Convolution2D)  (None, 20, 77, 36)    21636       convolution2d_1[0][0]            \n",
      "____________________________________________________________________________________________________\n",
      "convolution2d_3 (Convolution2D)  (None, 8, 37, 48)     43248       convolution2d_2[0][0]            \n",
      "____________________________________________________________________________________________________\n",
      "convolution2d_4 (Convolution2D)  (None, 6, 35, 64)     27712       convolution2d_3[0][0]            \n",
      "____________________________________________________________________________________________________\n",
      "convolution2d_5 (Convolution2D)  (None, 4, 33, 64)     36928       convolution2d_4[0][0]            \n",
      "____________________________________________________________________________________________________\n",
      "flatten_1 (Flatten)              (None, 8448)          0           convolution2d_5[0][0]            \n",
      "____________________________________________________________________________________________________\n",
      "dense_1 (Dense)                  (None, 100)           844900      flatten_1[0][0]                  \n",
      "____________________________________________________________________________________________________\n",
      "dense_2 (Dense)                  (None, 50)            5050        dense_1[0][0]                    \n",
      "____________________________________________________________________________________________________\n",
      "dense_3 (Dense)                  (None, 10)            510         dense_2[0][0]                    \n",
      "____________________________________________________________________________________________________\n",
      "dense_4 (Dense)                  (None, 1)             11          dense_3[0][0]                    \n",
      "====================================================================================================\n",
      "Total params: 981,819\n",
      "Trainable params: 981,819\n",
      "Non-trainable params: 0\n",
      "____________________________________________________________________________________________________\n"
     ]
    }
   ],
   "source": [
    "loadModel('model.h5').summary()"
   ]
  },
  {
   "cell_type": "code",
   "execution_count": 9,
   "metadata": {},
   "outputs": [
    {
     "name": "stdout",
     "output_type": "stream",
     "text": [
      "____________________________________________________________________________________________________\n",
      "Layer (type)                     Output Shape          Param #     Connected to                     \n",
      "====================================================================================================\n",
      "lambda_1 (Lambda)                (None, 80, 320, 3)    0           lambda_input_3[0][0]             \n",
      "____________________________________________________________________________________________________\n",
      "convolution2d_1 (Convolution2D)  (None, 76, 316, 6)    456         lambda_1[0][0]                   \n",
      "____________________________________________________________________________________________________\n",
      "maxpooling2d_1 (MaxPooling2D)    (None, 38, 158, 6)    0           convolution2d_1[0][0]            \n",
      "____________________________________________________________________________________________________\n",
      "convolution2d_2 (Convolution2D)  (None, 34, 154, 6)    906         maxpooling2d_1[0][0]             \n",
      "____________________________________________________________________________________________________\n",
      "maxpooling2d_2 (MaxPooling2D)    (None, 17, 77, 6)     0           convolution2d_2[0][0]            \n",
      "____________________________________________________________________________________________________\n",
      "flatten_1 (Flatten)              (None, 7854)          0           maxpooling2d_2[0][0]             \n",
      "____________________________________________________________________________________________________\n",
      "dense_1 (Dense)                  (None, 120)           942600      flatten_1[0][0]                  \n",
      "____________________________________________________________________________________________________\n",
      "dense_2 (Dense)                  (None, 84)            10164       dense_1[0][0]                    \n",
      "____________________________________________________________________________________________________\n",
      "dense_3 (Dense)                  (None, 1)             85          dense_2[0][0]                    \n",
      "====================================================================================================\n",
      "Total params: 954,211\n",
      "Trainable params: 954,211\n",
      "Non-trainable params: 0\n",
      "____________________________________________________________________________________________________\n"
     ]
    }
   ],
   "source": [
    "loadModel('model_LeNet_5.h5').summary()"
   ]
  },
  {
   "cell_type": "code",
   "execution_count": null,
   "metadata": {},
   "outputs": [],
   "source": [
    "from keras.models import Model\n",
    "import matplotlib.pyplot as plt\n",
    "\n",
    "# dict_keys(['loss', 'val_loss'])\n",
    "# Loss\n",
    "# [0.045153103061875123, 0.031848681302726264, 0.027354457760211899]\n",
    "# Validation Loss\n",
    "# [0.033896364609334075, 0.028193514087644336, 0.026007735237962643]\n",
    "loss = [0.045153103061875123, 0.031848681302726264, 0.027354457760211899]\n",
    "valid_loss = [0.033896364609334075, 0.028193514087644336, 0.026007735237962643]\n",
    "\n",
    "### plot the training and validation loss for each epoch\n",
    "plt.plot(loss)\n",
    "plt.plot(valid_loss)\n",
    "plt.title('model mean squared error loss')\n",
    "plt.ylabel('mean squared error loss')\n",
    "plt.xlabel('epoch')\n",
    "plt.legend(['training set', 'validation set'], loc='upper right')\n",
    "plt.grid(color='black', linestyle='--', linewidth=1)\n",
    "plt.show()"
   ]
  },
  {
   "cell_type": "code",
   "execution_count": null,
   "metadata": {},
   "outputs": [],
   "source": []
  }
 ],
 "metadata": {
  "kernelspec": {
   "display_name": "Python 3",
   "language": "python",
   "name": "python3"
  },
  "language_info": {
   "codemirror_mode": {
    "name": "ipython",
    "version": 3
   },
   "file_extension": ".py",
   "mimetype": "text/x-python",
   "name": "python",
   "nbconvert_exporter": "python",
   "pygments_lexer": "ipython3",
   "version": "3.6.5"
  },
  "widgets": {
   "state": {},
   "version": "1.1.2"
  }
 },
 "nbformat": 4,
 "nbformat_minor": 2
}
